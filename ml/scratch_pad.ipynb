{
 "cells": [
  {
   "cell_type": "code",
   "execution_count": null,
   "id": "2b66e611-4bac-48f4-8c39-6c45b7187fb3",
   "metadata": {},
   "outputs": [],
   "source": [
    "import math, keras_ocr"
   ]
  },
  {
   "cell_type": "code",
   "execution_count": null,
   "id": "c7513034-5a0f-49c2-a682-d1c6dca528f6",
   "metadata": {},
   "outputs": [],
   "source": [
    "image_path = '/mnt/d/src/delme/memes/F-3CwLyXUAA1Hwj.jpeg'"
   ]
  },
  {
   "cell_type": "code",
   "execution_count": null,
   "id": "8a2951b4-3427-4440-8a1c-59d56a718105",
   "metadata": {},
   "outputs": [],
   "source": [
    "import cv2\n",
    "import matplotlib.pyplot as plt\n",
    "\n",
    "# Plot...\n",
    "original_image = cv2.imread(image_path)\n",
    "original_image = original_image[:, :, ::-1]\n",
    "plt.imshow(original_image)"
   ]
  },
  {
   "cell_type": "code",
   "execution_count": null,
   "id": "90f7cad4-4d48-4ae1-bae8-10311d7671ff",
   "metadata": {},
   "outputs": [],
   "source": [
    "# Initialize pipeline\n",
    "pipeline = keras_ocr.pipeline.Pipeline()\n",
    "\n",
    "# Read in image\n",
    "read_image = keras_ocr.tools.read(image_path)\n",
    "\n",
    "# prediction_groups is a list of (word, box) tuples\n",
    "prediction_groups = pipeline.recognize([read_image]) "
   ]
  },
  {
   "cell_type": "code",
   "execution_count": null,
   "id": "6f9b5654-b1b2-47e2-9752-1492ca568897",
   "metadata": {},
   "outputs": [],
   "source": [
    "keras_ocr.tools.drawAnnotations(image=read_image, predictions=prediction_groups[0])"
   ]
  },
  {
   "cell_type": "code",
   "execution_count": null,
   "id": "87f5605d-dadd-4f60-b172-1c5a8175a745",
   "metadata": {},
   "outputs": [],
   "source": [
    "# (word, ( [[top-left], [top-right], [bottom-right], [bottom-left]] ))\n",
    "prediction_groups[0][0]"
   ]
  },
  {
   "cell_type": "code",
   "execution_count": null,
   "id": "21d2186a-454f-421b-8f47-4cb489601fcd",
   "metadata": {},
   "outputs": [],
   "source": [
    "raw_detections = []\n",
    "for prediction in prediction_groups[0]:\n",
    "    raw_detections.append(prediction[0])\n",
    "print(f'Detections: {raw_detections}') # out of order"
   ]
  },
  {
   "cell_type": "code",
   "execution_count": null,
   "id": "82f25c5f-d396-441b-bcec-1d0f37121eb4",
   "metadata": {},
   "outputs": [],
   "source": [
    "def get_distance(predictions):\n",
    "    \"\"\" \n",
    "    Function returns dictionary with (key,value):\n",
    "        * text : detected text in image\n",
    "        * center_x : center of bounding box (x)\n",
    "        * center_y : center of bounding box (y)\n",
    "        * distance_from_origin : hypotenuse\n",
    "        * distance_y : distance between y and origin (0,0)\n",
    "    \"\"\"\n",
    "\n",
    "    # Point of origin\n",
    "    x0, y0 = 0, 0 \n",
    "\n",
    "    # Generate dictionary\n",
    "    detections = []\n",
    "    for group in predictions:\n",
    "    \n",
    "        # Get center point of bounding box\n",
    "        top_left_x, top_left_y = group[1][0]\n",
    "        bottom_right_x, bottom_right_y = group[1][1]\n",
    "        center_x, center_y = (top_left_x + bottom_right_x)/2, (top_left_y + bottom_right_y)/2\n",
    "\n",
    "        # Use the Pythagorean Theorem to solve for distance from origin\n",
    "        distance_from_origin = math.dist([x0,y0], [center_x, center_y])\n",
    "\n",
    "        # Calculate difference between y and origin to get unique rows\n",
    "        distance_y = center_y - y0\n",
    "\n",
    "        # Append all results\n",
    "        detections.append({\n",
    "                            'text': group[0],\n",
    "                            'center_x': center_x,\n",
    "                            'center_y': center_y,\n",
    "                            'distance_from_origin': distance_from_origin,\n",
    "                            'distance_y': distance_y\n",
    "                        })\n",
    "\n",
    "    return detections"
   ]
  },
  {
   "cell_type": "code",
   "execution_count": null,
   "id": "93515e0e-f083-44c5-a132-09afa184fd0c",
   "metadata": {},
   "outputs": [],
   "source": [
    "predictions = prediction_groups[0] # extract text list\n",
    "predictions = get_distance(predictions)\n",
    "predictions"
   ]
  },
  {
   "cell_type": "code",
   "execution_count": null,
   "id": "b5156dd1-f769-4fb1-a3e3-6eaf59986238",
   "metadata": {},
   "outputs": [],
   "source": [
    "def distinguish_rows(lst, thresh=15):\n",
    "    \"\"\"Function to help distinguish unique rows\"\"\"\n",
    "    sublists = []\n",
    "    for i in range(0, len(lst)-1):\n",
    "        if (lst[i+1]['distance_y'] - lst[i]['distance_y'] <= thresh):\n",
    "            if lst[i] not in sublists:\n",
    "                sublists.append(lst[i])\n",
    "            sublists.append(lst[i+1])\n",
    "        else:\n",
    "            yield sublists\n",
    "            sublists = [lst[i+1]]\n",
    "    yield sublists"
   ]
  },
  {
   "cell_type": "code",
   "execution_count": null,
   "id": "bd516381-d039-43b6-bcdc-f825777ff500",
   "metadata": {},
   "outputs": [],
   "source": [
    "# Set thresh higher for text further apart\n",
    "predictions = list(distinguish_rows(predictions, thresh=15))\n",
    "predictions"
   ]
  },
  {
   "cell_type": "code",
   "execution_count": null,
   "id": "e7d823a9-1a2a-474a-97bc-283f676002fd",
   "metadata": {},
   "outputs": [],
   "source": [
    "# Remove all empty rows\n",
    "predictions = list(filter(lambda x:x!=[], predictions))"
   ]
  },
  {
   "cell_type": "code",
   "execution_count": null,
   "id": "c6542883-1ad2-43f5-ad57-4998cccdb1ed",
   "metadata": {},
   "outputs": [],
   "source": [
    "# Order text detections in human readable format\n",
    "ordered_preds = []\n",
    "for row in predictions:\n",
    "    row = sorted(row, key=lambda x:x['distance_from_origin'])\n",
    "    for each in row: ordered_preds.append(each['text'])\n",
    "print(f'Detections: {ordered_preds}')"
   ]
  }
 ],
 "metadata": {},
 "nbformat": 4,
 "nbformat_minor": 5
}
